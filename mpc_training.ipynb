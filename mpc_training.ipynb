{
 "cells": [
  {
   "cell_type": "code",
   "execution_count": 1,
   "metadata": {},
   "outputs": [],
   "source": [
    "import pandas as pd\n",
    "import os\n",
    "import numpy as np\n",
    "\n",
    "from lmu_torch import LMUCell\n",
    "import torch\n",
    "from tqdm import tqdm"
   ]
  },
  {
   "cell_type": "code",
   "execution_count": 2,
   "metadata": {},
   "outputs": [],
   "source": [
    "def load_data(folder):\n",
    "    X = []\n",
    "    Y = []\n",
    "    for fname in os.listdir(folder):\n",
    "        df = pd.read_csv(f'{folder}/{fname}', skiprows=28)[:-1]\n",
    "        x = df[[\n",
    "            'angle_sin', 'angle_cos', 'angleD', 'position', \n",
    "            'positionD', 'target_equilibrium', 'target_position'\n",
    "        ]]\n",
    "        y = df[['Q']]\n",
    "        X.append(x)\n",
    "        Y.append(y)\n",
    "    X = np.array(X)\n",
    "    Y = np.array(Y)\n",
    "    return X, Y"
   ]
  },
  {
   "cell_type": "code",
   "execution_count": 3,
   "metadata": {},
   "outputs": [],
   "source": [
    "class Model(torch.nn.Module):\n",
    "    \"\"\" A simple model for the psMNIST dataset consisting of a single LMU layer and a single dense classifier \"\"\"\n",
    "\n",
    "    def __init__(self, input_size, output_size, hidden_size, memory_size, theta, learn_a = False, learn_b = False):\n",
    "        super(Model, self).__init__()\n",
    "        self.lmu = LMUCell(input_size, hidden_size, memory_size, theta, learn_a, learn_b)\n",
    "        self.classifier = torch.nn.Linear(hidden_size, output_size)\n",
    "\n",
    "    def forward(self, x):\n",
    "        out = []\n",
    "        h_0 = torch.zeros(x.shape[0], self.lmu.hidden_size)\n",
    "        m_0 = torch.zeros(x.shape[0], self.lmu.memory_size)\n",
    "        state = (h_0, m_0)\n",
    "        for t in range(x.shape[1]):\n",
    "            state = self.lmu(x[:,t,:], state) # [batch_size, hidden_size]\n",
    "            output = self.classifier(state[0])\n",
    "            out.append(output) # [batch_size, output_size]\n",
    "        return torch.stack(out, dim=1) # [batch_size, seq_len, output_size]"
   ]
  },
  {
   "cell_type": "code",
   "execution_count": 4,
   "metadata": {},
   "outputs": [
    {
     "name": "stdout",
     "output_type": "stream",
     "text": [
      "(4000, 75, 7) (4000, 75, 1)\n",
      "(500, 75, 7) (500, 75, 1)\n"
     ]
    }
   ],
   "source": [
    "folder = 'DG-27s-and-1s500ms-noisy-u/Recordings/Train/Train-1s500ms'\n",
    "x_train, y_train = load_data(folder)\n",
    "print(x_train.shape, y_train.shape)\n",
    "\n",
    "folder = 'DG-27s-and-1s500ms-noisy-u/Recordings/Test/Test-1s500ms'\n",
    "x_test, y_test = load_data(folder)\n",
    "print(x_test.shape, y_test.shape)"
   ]
  },
  {
   "cell_type": "code",
   "execution_count": 5,
   "metadata": {},
   "outputs": [],
   "source": [
    "model = Model(7, 1, 16, 16, 4)\n",
    "optimizer = torch.optim.Adam(model.parameters())\n",
    "loss = torch.nn.MSELoss()"
   ]
  },
  {
   "cell_type": "code",
   "execution_count": 6,
   "metadata": {},
   "outputs": [
    {
     "name": "stdout",
     "output_type": "stream",
     "text": [
      "0 train 1.0198590657750115 test 1.0027810675757272\n",
      "0 0.6348884950895779\n",
      "10 0.03771992956028615\n",
      "20 0.022867461483253807\n",
      "30 0.017467555742649757\n",
      "40 0.015708216633953033\n",
      "50 train 0.015048205623494798 test 0.015310620090791158\n",
      "50 0.0150655366205534\n",
      "60 0.014666089268981433\n",
      "70 0.014322236836811558\n",
      "80 0.013989605543921228\n",
      "90 0.013637013519640829\n",
      "100 train 0.013298574331231782 test 0.013720575054841382\n",
      "100 0.013252442763721357\n",
      "110 0.012889095750011389\n",
      "120 0.012610604421647846\n",
      "130 0.012400065518182816\n",
      "140 0.012226454165504604\n",
      "150 train 0.012119033679243971 test 0.0126453572884202\n",
      "150 0.012076566560712994\n",
      "160 0.011944944710760828\n",
      "170 0.011828989309609914\n",
      "180 0.011726906492573316\n",
      "190 0.011636394137119667\n",
      "200 train 0.011617172891121418 test 0.012121343719107764\n",
      "200 0.011555128471284617\n",
      "210 0.011481443481122861\n",
      "220 0.011414455036159421\n",
      "230 0.011353715429784821\n",
      "240 0.011298758496881509\n",
      "250 train 0.011310072188250354 test 0.01179641272340502\n",
      "250 0.011248878096459343\n",
      "260 0.011203200938027413\n",
      "270 0.011160867151300439\n",
      "280 0.011121151098584543\n",
      "290 0.011083509788283558\n",
      "300 train 0.011095860163818617 test 0.011568419236157621\n",
      "300 0.011047578264088904\n",
      "310 0.011013133924637661\n",
      "320 0.010980069805241998\n",
      "330 0.010948340087884763\n",
      "340 0.010917918466520115\n",
      "350 train 0.010922105860759 test 0.011385844621275152\n",
      "350 0.01088876165754971\n",
      "360 0.010860764390987451\n",
      "370 0.010833615009657672\n",
      "380 0.010807342109743689\n",
      "390 0.010782209789899529\n",
      "400 train 0.010780766438387457 test 0.011238098011485167\n",
      "400 0.010758011418654293\n",
      "410 0.010734594182767829\n",
      "420 0.010711882614576425\n",
      "430 0.010689955907034093\n",
      "440 0.010668863359166957\n",
      "450 train 0.010660430187451058 test 0.011108685683991228\n",
      "450 0.010648603047259519\n",
      "460 0.010629163551159572\n",
      "470 0.010610530152916908\n",
      "480 0.010592684699375122\n",
      "490 0.010575603708991261\n",
      "499 0.010560861773422508\r"
     ]
    }
   ],
   "source": [
    "batch_size = 64\n",
    "n_batches = x_train.shape[0] // batch_size\n",
    "\n",
    "for epoch in range(500):\n",
    "\n",
    "    # eval\n",
    "    if epoch % 50 == 0:\n",
    "        loss_train = []\n",
    "        for batch_idx in range(n_batches-1):\n",
    "            model.eval()\n",
    "            x = x_train[batch_idx*batch_size:(batch_idx+1)*batch_size]\n",
    "            y = y_train[batch_idx*batch_size:(batch_idx+1)*batch_size]\n",
    "            x = torch.tensor(x, dtype=torch.float32)\n",
    "            y = torch.tensor(y, dtype=torch.float32)\n",
    "            ypr = model(x)\n",
    "            loss_train.append(loss(ypr, y).item())\n",
    "        loss_test = []\n",
    "        for batch_idx in range(x_test.shape[0] // batch_size):\n",
    "            model.eval()\n",
    "            x = x_test[batch_idx*batch_size:(batch_idx+1)*batch_size]\n",
    "            y = y_test[batch_idx*batch_size:(batch_idx+1)*batch_size]\n",
    "            x = torch.tensor(x, dtype=torch.float32)\n",
    "            y = torch.tensor(y, dtype=torch.float32)\n",
    "            ypr = model(x)\n",
    "            loss_test.append(loss(ypr, y).item())\n",
    "        print(epoch, 'train', np.array(loss_train).mean(), 'test', np.array(loss_test).mean())\n",
    "\n",
    "    # train\n",
    "    epoch_loss = []\n",
    "    model.train()\n",
    "    for batch_idx in range(n_batches-1):\n",
    "        x = x_train[batch_idx*batch_size:(batch_idx+1)*batch_size]\n",
    "        y = y_train[batch_idx*batch_size:(batch_idx+1)*batch_size]\n",
    "        \n",
    "        x = torch.tensor(x, dtype=torch.float32)\n",
    "        y = torch.tensor(y, dtype=torch.float32)\n",
    "\n",
    "        optimizer.zero_grad()\n",
    "        y_pred = model(x)\n",
    "        l = loss(y_pred, y)\n",
    "        l.backward()\n",
    "        optimizer.step()\n",
    "\n",
    "        epoch_loss.append(l.item())\n",
    "\n",
    "    # log training loss\n",
    "    avg_epoch_loss = np.array(epoch_loss).mean()\n",
    "    if epoch % 10 == 0:\n",
    "        print(epoch, avg_epoch_loss)\n",
    "    else:\n",
    "        print(epoch, avg_epoch_loss, end='\\r')"
   ]
  },
  {
   "cell_type": "code",
   "execution_count": 8,
   "metadata": {},
   "outputs": [],
   "source": [
    "model_name = 'mpc_models/lmu_7-1-16-16-4.pt'\n",
    "torch.save(model.state_dict(), model_name)"
   ]
  },
  {
   "cell_type": "code",
   "execution_count": null,
   "metadata": {},
   "outputs": [],
   "source": []
  }
 ],
 "metadata": {
  "kernelspec": {
   "display_name": "mpclmu",
   "language": "python",
   "name": "python3"
  },
  "language_info": {
   "codemirror_mode": {
    "name": "ipython",
    "version": 3
   },
   "file_extension": ".py",
   "mimetype": "text/x-python",
   "name": "python",
   "nbconvert_exporter": "python",
   "pygments_lexer": "ipython3",
   "version": "3.11.4"
  },
  "orig_nbformat": 4
 },
 "nbformat": 4,
 "nbformat_minor": 2
}
